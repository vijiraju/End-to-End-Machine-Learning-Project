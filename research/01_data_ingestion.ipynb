{
 "cells": [
  {
   "cell_type": "code",
   "execution_count": 1,
   "metadata": {},
   "outputs": [],
   "source": [
    "import os"
   ]
  },
  {
   "cell_type": "code",
   "execution_count": 2,
   "metadata": {},
   "outputs": [
    {
     "data": {
      "text/plain": [
       "'/config/workspace/End-to-End-Machine-Learning-Project/research'"
      ]
     },
     "execution_count": 2,
     "metadata": {},
     "output_type": "execute_result"
    }
   ],
   "source": [
    "%pwd"
   ]
  },
  {
   "cell_type": "code",
   "execution_count": 3,
   "metadata": {},
   "outputs": [],
   "source": [
    "os.chdir('../')"
   ]
  },
  {
   "cell_type": "code",
   "execution_count": 4,
   "metadata": {},
   "outputs": [],
   "source": [
    "from dataclasses import dataclass\n",
    "from pathlib import Path\n",
    "\n",
    "\n",
    "@dataclass(frozen=True)\n",
    "class DataIngestionConfig:\n",
    "    root_dir: Path\n",
    "    source_URL: str\n",
    "    local_data_file: Path\n",
    "    unzip_dir: Path"
   ]
  },
  {
   "cell_type": "code",
   "execution_count": 5,
   "metadata": {},
   "outputs": [
    {
     "name": "stdout",
     "output_type": "stream",
     "text": [
      "Requirement already satisfied: pandas in /config/.local/lib/python3.8/site-packages (from -r requirements.txt (line 1)) (2.0.3)\n",
      "Requirement already satisfied: notebook in /config/.local/lib/python3.8/site-packages (from -r requirements.txt (line 2)) (7.0.6)\n",
      "Requirement already satisfied: numpy in /config/.local/lib/python3.8/site-packages (from -r requirements.txt (line 3)) (1.24.4)\n",
      "Requirement already satisfied: scikit-learn in /config/.local/lib/python3.8/site-packages (from -r requirements.txt (line 4)) (1.3.2)\n",
      "Requirement already satisfied: matplotlib in /config/.local/lib/python3.8/site-packages (from -r requirements.txt (line 5)) (3.7.4)\n",
      "Requirement already satisfied: python-box==6.0.2 in /config/.local/lib/python3.8/site-packages (from -r requirements.txt (line 6)) (6.0.2)\n",
      "Requirement already satisfied: pyYAML in /config/.local/lib/python3.8/site-packages (from -r requirements.txt (line 7)) (6.0.1)\n",
      "Requirement already satisfied: ensure==1.0.2 in /config/.local/lib/python3.8/site-packages (from -r requirements.txt (line 8)) (1.0.2)\n",
      "Requirement already satisfied: joblib in /config/.local/lib/python3.8/site-packages (from -r requirements.txt (line 9)) (1.3.2)\n",
      "Requirement already satisfied: types-pyYAML in /config/.local/lib/python3.8/site-packages (from -r requirements.txt (line 10)) (6.0.12.12)\n",
      "Requirement already satisfied: Flask in /config/.local/lib/python3.8/site-packages (from -r requirements.txt (line 11)) (3.0.0)\n",
      "Requirement already satisfied: Flask-Cors in /config/.local/lib/python3.8/site-packages (from -r requirements.txt (line 12)) (4.0.0)\n",
      "Requirement already satisfied: python-dateutil>=2.8.2 in /config/.local/lib/python3.8/site-packages (from pandas->-r requirements.txt (line 1)) (2.8.2)\n",
      "Requirement already satisfied: pytz>=2020.1 in /config/.local/lib/python3.8/site-packages (from pandas->-r requirements.txt (line 1)) (2023.3.post1)\n",
      "Requirement already satisfied: tzdata>=2022.1 in /config/.local/lib/python3.8/site-packages (from pandas->-r requirements.txt (line 1)) (2023.4)\n",
      "Requirement already satisfied: jupyterlab<5,>=4.0.2 in /config/.local/lib/python3.8/site-packages (from notebook->-r requirements.txt (line 2)) (4.0.10)\n",
      "Requirement already satisfied: notebook-shim<0.3,>=0.2 in /config/.local/lib/python3.8/site-packages (from notebook->-r requirements.txt (line 2)) (0.2.3)\n",
      "Requirement already satisfied: jupyter-server<3,>=2.4.0 in /config/.local/lib/python3.8/site-packages (from notebook->-r requirements.txt (line 2)) (2.12.4)\n",
      "Requirement already satisfied: tornado>=6.2.0 in /config/.local/lib/python3.8/site-packages (from notebook->-r requirements.txt (line 2)) (6.4)\n",
      "Requirement already satisfied: jupyterlab-server<3,>=2.22.1 in /config/.local/lib/python3.8/site-packages (from notebook->-r requirements.txt (line 2)) (2.25.2)\n",
      "Requirement already satisfied: scipy>=1.5.0 in /config/.local/lib/python3.8/site-packages (from scikit-learn->-r requirements.txt (line 4)) (1.10.1)\n",
      "Requirement already satisfied: threadpoolctl>=2.0.0 in /config/.local/lib/python3.8/site-packages (from scikit-learn->-r requirements.txt (line 4)) (3.2.0)\n",
      "Requirement already satisfied: packaging>=20.0 in /config/.local/lib/python3.8/site-packages (from matplotlib->-r requirements.txt (line 5)) (23.2)\n",
      "Requirement already satisfied: pillow>=6.2.0 in /config/.local/lib/python3.8/site-packages (from matplotlib->-r requirements.txt (line 5)) (10.2.0)\n",
      "Requirement already satisfied: importlib-resources>=3.2.0; python_version < \"3.10\" in /config/.local/lib/python3.8/site-packages (from matplotlib->-r requirements.txt (line 5)) (6.1.1)\n",
      "Requirement already satisfied: pyparsing>=2.3.1 in /config/.local/lib/python3.8/site-packages (from matplotlib->-r requirements.txt (line 5)) (3.1.1)\n",
      "Requirement already satisfied: fonttools>=4.22.0 in /config/.local/lib/python3.8/site-packages (from matplotlib->-r requirements.txt (line 5)) (4.47.2)\n",
      "Requirement already satisfied: kiwisolver>=1.0.1 in /config/.local/lib/python3.8/site-packages (from matplotlib->-r requirements.txt (line 5)) (1.4.5)\n",
      "Requirement already satisfied: cycler>=0.10 in /config/.local/lib/python3.8/site-packages (from matplotlib->-r requirements.txt (line 5)) (0.12.1)\n",
      "Requirement already satisfied: contourpy>=1.0.1 in /config/.local/lib/python3.8/site-packages (from matplotlib->-r requirements.txt (line 5)) (1.1.1)\n",
      "Requirement already satisfied: six>=1.11.0 in /config/.local/lib/python3.8/site-packages (from ensure==1.0.2->-r requirements.txt (line 8)) (1.16.0)\n",
      "Requirement already satisfied: importlib-metadata>=3.6.0; python_version < \"3.10\" in /config/.local/lib/python3.8/site-packages (from Flask->-r requirements.txt (line 11)) (7.0.1)\n",
      "Requirement already satisfied: Jinja2>=3.1.2 in /config/.local/lib/python3.8/site-packages (from Flask->-r requirements.txt (line 11)) (3.1.3)\n",
      "Requirement already satisfied: Werkzeug>=3.0.0 in /config/.local/lib/python3.8/site-packages (from Flask->-r requirements.txt (line 11)) (3.0.1)\n",
      "Requirement already satisfied: blinker>=1.6.2 in /config/.local/lib/python3.8/site-packages (from Flask->-r requirements.txt (line 11)) (1.7.0)\n",
      "Requirement already satisfied: itsdangerous>=2.1.2 in /config/.local/lib/python3.8/site-packages (from Flask->-r requirements.txt (line 11)) (2.1.2)\n",
      "Requirement already satisfied: click>=8.1.3 in /config/.local/lib/python3.8/site-packages (from Flask->-r requirements.txt (line 11)) (8.1.7)\n",
      "Requirement already satisfied: async-lru>=1.0.0 in /config/.local/lib/python3.8/site-packages (from jupyterlab<5,>=4.0.2->notebook->-r requirements.txt (line 2)) (2.0.4)\n",
      "Requirement already satisfied: traitlets in /config/.local/lib/python3.8/site-packages (from jupyterlab<5,>=4.0.2->notebook->-r requirements.txt (line 2)) (5.14.1)\n",
      "Requirement already satisfied: tomli; python_version < \"3.11\" in /config/.local/lib/python3.8/site-packages (from jupyterlab<5,>=4.0.2->notebook->-r requirements.txt (line 2)) (2.0.1)\n",
      "Requirement already satisfied: ipykernel in /config/.local/lib/python3.8/site-packages (from jupyterlab<5,>=4.0.2->notebook->-r requirements.txt (line 2)) (6.28.0)\n",
      "Requirement already satisfied: jupyter-core in /config/.local/lib/python3.8/site-packages (from jupyterlab<5,>=4.0.2->notebook->-r requirements.txt (line 2)) (5.7.1)\n",
      "Requirement already satisfied: jupyter-lsp>=2.0.0 in /config/.local/lib/python3.8/site-packages (from jupyterlab<5,>=4.0.2->notebook->-r requirements.txt (line 2)) (2.2.1)\n",
      "Requirement already satisfied: argon2-cffi in /config/.local/lib/python3.8/site-packages (from jupyter-server<3,>=2.4.0->notebook->-r requirements.txt (line 2)) (23.1.0)\n",
      "Requirement already satisfied: prometheus-client in /config/.local/lib/python3.8/site-packages (from jupyter-server<3,>=2.4.0->notebook->-r requirements.txt (line 2)) (0.19.0)\n",
      "Requirement already satisfied: anyio>=3.1.0 in /config/.local/lib/python3.8/site-packages (from jupyter-server<3,>=2.4.0->notebook->-r requirements.txt (line 2)) (4.2.0)\n",
      "Requirement already satisfied: jupyter-server-terminals in /config/.local/lib/python3.8/site-packages (from jupyter-server<3,>=2.4.0->notebook->-r requirements.txt (line 2)) (0.5.1)\n",
      "Requirement already satisfied: terminado>=0.8.3 in /config/.local/lib/python3.8/site-packages (from jupyter-server<3,>=2.4.0->notebook->-r requirements.txt (line 2)) (0.18.0)\n",
      "Requirement already satisfied: websocket-client in /config/.local/lib/python3.8/site-packages (from jupyter-server<3,>=2.4.0->notebook->-r requirements.txt (line 2)) (1.7.0)\n",
      "Requirement already satisfied: overrides in /config/.local/lib/python3.8/site-packages (from jupyter-server<3,>=2.4.0->notebook->-r requirements.txt (line 2)) (7.4.0)\n",
      "Requirement already satisfied: nbformat>=5.3.0 in /config/.local/lib/python3.8/site-packages (from jupyter-server<3,>=2.4.0->notebook->-r requirements.txt (line 2)) (5.9.2)\n",
      "Requirement already satisfied: send2trash>=1.8.2 in /config/.local/lib/python3.8/site-packages (from jupyter-server<3,>=2.4.0->notebook->-r requirements.txt (line 2)) (1.8.2)\n",
      "Requirement already satisfied: jupyter-events>=0.9.0 in /config/.local/lib/python3.8/site-packages (from jupyter-server<3,>=2.4.0->notebook->-r requirements.txt (line 2)) (0.9.0)\n",
      "Requirement already satisfied: jupyter-client>=7.4.4 in /config/.local/lib/python3.8/site-packages (from jupyter-server<3,>=2.4.0->notebook->-r requirements.txt (line 2)) (8.6.0)\n",
      "Requirement already satisfied: pyzmq>=24 in /config/.local/lib/python3.8/site-packages (from jupyter-server<3,>=2.4.0->notebook->-r requirements.txt (line 2)) (25.1.2)\n",
      "Requirement already satisfied: nbconvert>=6.4.4 in /config/.local/lib/python3.8/site-packages (from jupyter-server<3,>=2.4.0->notebook->-r requirements.txt (line 2)) (7.14.1)\n",
      "Requirement already satisfied: json5>=0.9.0 in /config/.local/lib/python3.8/site-packages (from jupyterlab-server<3,>=2.22.1->notebook->-r requirements.txt (line 2)) (0.9.14)\n",
      "Requirement already satisfied: jsonschema>=4.18.0 in /config/.local/lib/python3.8/site-packages (from jupyterlab-server<3,>=2.22.1->notebook->-r requirements.txt (line 2)) (4.20.0)\n",
      "Requirement already satisfied: babel>=2.10 in /config/.local/lib/python3.8/site-packages (from jupyterlab-server<3,>=2.22.1->notebook->-r requirements.txt (line 2)) (2.14.0)\n",
      "Requirement already satisfied: requests>=2.31 in /config/.local/lib/python3.8/site-packages (from jupyterlab-server<3,>=2.22.1->notebook->-r requirements.txt (line 2)) (2.31.0)\n",
      "Requirement already satisfied: zipp>=3.1.0; python_version < \"3.10\" in /config/.local/lib/python3.8/site-packages (from importlib-resources>=3.2.0; python_version < \"3.10\"->matplotlib->-r requirements.txt (line 5)) (3.17.0)\n",
      "Requirement already satisfied: MarkupSafe>=2.0 in /config/.local/lib/python3.8/site-packages (from Jinja2>=3.1.2->Flask->-r requirements.txt (line 11)) (2.1.3)\n",
      "Requirement already satisfied: typing-extensions>=4.0.0; python_version < \"3.11\" in /config/.local/lib/python3.8/site-packages (from async-lru>=1.0.0->jupyterlab<5,>=4.0.2->notebook->-r requirements.txt (line 2)) (4.9.0)\n",
      "Requirement already satisfied: ipython>=7.23.1 in /config/.local/lib/python3.8/site-packages (from ipykernel->jupyterlab<5,>=4.0.2->notebook->-r requirements.txt (line 2)) (8.12.3)\n",
      "Requirement already satisfied: debugpy>=1.6.5 in /config/.local/lib/python3.8/site-packages (from ipykernel->jupyterlab<5,>=4.0.2->notebook->-r requirements.txt (line 2)) (1.8.0)\n",
      "Requirement already satisfied: psutil in /config/.local/lib/python3.8/site-packages (from ipykernel->jupyterlab<5,>=4.0.2->notebook->-r requirements.txt (line 2)) (5.9.7)\n",
      "Requirement already satisfied: nest-asyncio in /config/.local/lib/python3.8/site-packages (from ipykernel->jupyterlab<5,>=4.0.2->notebook->-r requirements.txt (line 2)) (1.5.9)\n",
      "Requirement already satisfied: matplotlib-inline>=0.1 in /config/.local/lib/python3.8/site-packages (from ipykernel->jupyterlab<5,>=4.0.2->notebook->-r requirements.txt (line 2)) (0.1.6)\n",
      "Requirement already satisfied: comm>=0.1.1 in /config/.local/lib/python3.8/site-packages (from ipykernel->jupyterlab<5,>=4.0.2->notebook->-r requirements.txt (line 2)) (0.2.1)\n",
      "Requirement already satisfied: platformdirs>=2.5 in /config/.local/lib/python3.8/site-packages (from jupyter-core->jupyterlab<5,>=4.0.2->notebook->-r requirements.txt (line 2)) (4.1.0)\n",
      "Requirement already satisfied: argon2-cffi-bindings in /config/.local/lib/python3.8/site-packages (from argon2-cffi->jupyter-server<3,>=2.4.0->notebook->-r requirements.txt (line 2)) (21.2.0)\n",
      "Requirement already satisfied: sniffio>=1.1 in /config/.local/lib/python3.8/site-packages (from anyio>=3.1.0->jupyter-server<3,>=2.4.0->notebook->-r requirements.txt (line 2)) (1.3.0)\n",
      "Requirement already satisfied: exceptiongroup>=1.0.2; python_version < \"3.11\" in /config/.local/lib/python3.8/site-packages (from anyio>=3.1.0->jupyter-server<3,>=2.4.0->notebook->-r requirements.txt (line 2)) (1.2.0)\n",
      "Requirement already satisfied: idna>=2.8 in /config/.local/lib/python3.8/site-packages (from anyio>=3.1.0->jupyter-server<3,>=2.4.0->notebook->-r requirements.txt (line 2)) (3.6)\n",
      "Requirement already satisfied: ptyprocess; os_name != \"nt\" in /config/.local/lib/python3.8/site-packages (from terminado>=0.8.3->jupyter-server<3,>=2.4.0->notebook->-r requirements.txt (line 2)) (0.7.0)\n",
      "Requirement already satisfied: fastjsonschema in /config/.local/lib/python3.8/site-packages (from nbformat>=5.3.0->jupyter-server<3,>=2.4.0->notebook->-r requirements.txt (line 2)) (2.19.1)\n",
      "Requirement already satisfied: rfc3986-validator>=0.1.1 in /config/.local/lib/python3.8/site-packages (from jupyter-events>=0.9.0->jupyter-server<3,>=2.4.0->notebook->-r requirements.txt (line 2)) (0.1.1)\n",
      "Requirement already satisfied: python-json-logger>=2.0.4 in /config/.local/lib/python3.8/site-packages (from jupyter-events>=0.9.0->jupyter-server<3,>=2.4.0->notebook->-r requirements.txt (line 2)) (2.0.7)\n",
      "Requirement already satisfied: referencing in /config/.local/lib/python3.8/site-packages (from jupyter-events>=0.9.0->jupyter-server<3,>=2.4.0->notebook->-r requirements.txt (line 2)) (0.32.1)\n",
      "Requirement already satisfied: rfc3339-validator in /config/.local/lib/python3.8/site-packages (from jupyter-events>=0.9.0->jupyter-server<3,>=2.4.0->notebook->-r requirements.txt (line 2)) (0.1.4)\n",
      "Requirement already satisfied: nbclient>=0.5.0 in /config/.local/lib/python3.8/site-packages (from nbconvert>=6.4.4->jupyter-server<3,>=2.4.0->notebook->-r requirements.txt (line 2)) (0.9.0)\n",
      "Requirement already satisfied: pandocfilters>=1.4.1 in /config/.local/lib/python3.8/site-packages (from nbconvert>=6.4.4->jupyter-server<3,>=2.4.0->notebook->-r requirements.txt (line 2)) (1.5.0)\n",
      "Requirement already satisfied: defusedxml in /config/.local/lib/python3.8/site-packages (from nbconvert>=6.4.4->jupyter-server<3,>=2.4.0->notebook->-r requirements.txt (line 2)) (0.7.1)\n",
      "Requirement already satisfied: mistune<4,>=2.0.3 in /config/.local/lib/python3.8/site-packages (from nbconvert>=6.4.4->jupyter-server<3,>=2.4.0->notebook->-r requirements.txt (line 2)) (3.0.2)\n",
      "Requirement already satisfied: bleach!=5.0.0 in /config/.local/lib/python3.8/site-packages (from nbconvert>=6.4.4->jupyter-server<3,>=2.4.0->notebook->-r requirements.txt (line 2)) (6.1.0)\n",
      "Requirement already satisfied: pygments>=2.4.1 in /config/.local/lib/python3.8/site-packages (from nbconvert>=6.4.4->jupyter-server<3,>=2.4.0->notebook->-r requirements.txt (line 2)) (2.17.2)\n",
      "Requirement already satisfied: tinycss2 in /config/.local/lib/python3.8/site-packages (from nbconvert>=6.4.4->jupyter-server<3,>=2.4.0->notebook->-r requirements.txt (line 2)) (1.2.1)\n",
      "Requirement already satisfied: beautifulsoup4 in /config/.local/lib/python3.8/site-packages (from nbconvert>=6.4.4->jupyter-server<3,>=2.4.0->notebook->-r requirements.txt (line 2)) (4.12.2)\n",
      "Requirement already satisfied: jupyterlab-pygments in /config/.local/lib/python3.8/site-packages (from nbconvert>=6.4.4->jupyter-server<3,>=2.4.0->notebook->-r requirements.txt (line 2)) (0.3.0)\n",
      "Requirement already satisfied: attrs>=22.2.0 in /config/.local/lib/python3.8/site-packages (from jsonschema>=4.18.0->jupyterlab-server<3,>=2.22.1->notebook->-r requirements.txt (line 2)) (23.2.0)\n",
      "Requirement already satisfied: rpds-py>=0.7.1 in /config/.local/lib/python3.8/site-packages (from jsonschema>=4.18.0->jupyterlab-server<3,>=2.22.1->notebook->-r requirements.txt (line 2)) (0.17.1)\n",
      "Requirement already satisfied: pkgutil-resolve-name>=1.3.10; python_version < \"3.9\" in /config/.local/lib/python3.8/site-packages (from jsonschema>=4.18.0->jupyterlab-server<3,>=2.22.1->notebook->-r requirements.txt (line 2)) (1.3.10)\n",
      "Requirement already satisfied: jsonschema-specifications>=2023.03.6 in /config/.local/lib/python3.8/site-packages (from jsonschema>=4.18.0->jupyterlab-server<3,>=2.22.1->notebook->-r requirements.txt (line 2)) (2023.12.1)\n",
      "Requirement already satisfied: urllib3<3,>=1.21.1 in /config/.local/lib/python3.8/site-packages (from requests>=2.31->jupyterlab-server<3,>=2.22.1->notebook->-r requirements.txt (line 2)) (2.1.0)\n",
      "Requirement already satisfied: charset-normalizer<4,>=2 in /config/.local/lib/python3.8/site-packages (from requests>=2.31->jupyterlab-server<3,>=2.22.1->notebook->-r requirements.txt (line 2)) (3.3.2)\n",
      "Requirement already satisfied: certifi>=2017.4.17 in /config/.local/lib/python3.8/site-packages (from requests>=2.31->jupyterlab-server<3,>=2.22.1->notebook->-r requirements.txt (line 2)) (2023.11.17)\n",
      "Requirement already satisfied: pickleshare in /config/.local/lib/python3.8/site-packages (from ipython>=7.23.1->ipykernel->jupyterlab<5,>=4.0.2->notebook->-r requirements.txt (line 2)) (0.7.5)\n",
      "Requirement already satisfied: backcall in /config/.local/lib/python3.8/site-packages (from ipython>=7.23.1->ipykernel->jupyterlab<5,>=4.0.2->notebook->-r requirements.txt (line 2)) (0.2.0)\n",
      "Requirement already satisfied: decorator in /config/.local/lib/python3.8/site-packages (from ipython>=7.23.1->ipykernel->jupyterlab<5,>=4.0.2->notebook->-r requirements.txt (line 2)) (5.1.1)\n",
      "Requirement already satisfied: pexpect>4.3; sys_platform != \"win32\" in /config/.local/lib/python3.8/site-packages (from ipython>=7.23.1->ipykernel->jupyterlab<5,>=4.0.2->notebook->-r requirements.txt (line 2)) (4.9.0)\n",
      "Requirement already satisfied: prompt-toolkit!=3.0.37,<3.1.0,>=3.0.30 in /config/.local/lib/python3.8/site-packages (from ipython>=7.23.1->ipykernel->jupyterlab<5,>=4.0.2->notebook->-r requirements.txt (line 2)) (3.0.43)\n",
      "Requirement already satisfied: jedi>=0.16 in /config/.local/lib/python3.8/site-packages (from ipython>=7.23.1->ipykernel->jupyterlab<5,>=4.0.2->notebook->-r requirements.txt (line 2)) (0.19.1)\n",
      "Requirement already satisfied: stack-data in /config/.local/lib/python3.8/site-packages (from ipython>=7.23.1->ipykernel->jupyterlab<5,>=4.0.2->notebook->-r requirements.txt (line 2)) (0.6.3)\n",
      "Requirement already satisfied: cffi>=1.0.1 in /config/.local/lib/python3.8/site-packages (from argon2-cffi-bindings->argon2-cffi->jupyter-server<3,>=2.4.0->notebook->-r requirements.txt (line 2)) (1.16.0)\n",
      "Requirement already satisfied: webencodings in /config/.local/lib/python3.8/site-packages (from bleach!=5.0.0->nbconvert>=6.4.4->jupyter-server<3,>=2.4.0->notebook->-r requirements.txt (line 2)) (0.5.1)\n",
      "Requirement already satisfied: soupsieve>1.2 in /config/.local/lib/python3.8/site-packages (from beautifulsoup4->nbconvert>=6.4.4->jupyter-server<3,>=2.4.0->notebook->-r requirements.txt (line 2)) (2.5)\n",
      "Requirement already satisfied: wcwidth in /config/.local/lib/python3.8/site-packages (from prompt-toolkit!=3.0.37,<3.1.0,>=3.0.30->ipython>=7.23.1->ipykernel->jupyterlab<5,>=4.0.2->notebook->-r requirements.txt (line 2)) (0.2.13)\n",
      "Requirement already satisfied: parso<0.9.0,>=0.8.3 in /config/.local/lib/python3.8/site-packages (from jedi>=0.16->ipython>=7.23.1->ipykernel->jupyterlab<5,>=4.0.2->notebook->-r requirements.txt (line 2)) (0.8.3)\n",
      "Requirement already satisfied: asttokens>=2.1.0 in /config/.local/lib/python3.8/site-packages (from stack-data->ipython>=7.23.1->ipykernel->jupyterlab<5,>=4.0.2->notebook->-r requirements.txt (line 2)) (2.4.1)\n",
      "Requirement already satisfied: executing>=1.2.0 in /config/.local/lib/python3.8/site-packages (from stack-data->ipython>=7.23.1->ipykernel->jupyterlab<5,>=4.0.2->notebook->-r requirements.txt (line 2)) (2.0.1)\n",
      "Requirement already satisfied: pure-eval in /config/.local/lib/python3.8/site-packages (from stack-data->ipython>=7.23.1->ipykernel->jupyterlab<5,>=4.0.2->notebook->-r requirements.txt (line 2)) (0.2.2)\n",
      "Requirement already satisfied: pycparser in /config/.local/lib/python3.8/site-packages (from cffi>=1.0.1->argon2-cffi-bindings->argon2-cffi->jupyter-server<3,>=2.4.0->notebook->-r requirements.txt (line 2)) (2.21)\n",
      "Note: you may need to restart the kernel to use updated packages.\n"
     ]
    }
   ],
   "source": [
    "pip install -r requirements.txt"
   ]
  },
  {
   "cell_type": "code",
   "execution_count": 6,
   "metadata": {},
   "outputs": [],
   "source": [
    "from src.mlProject.constants import *\n",
    "from src.mlProject.utils.common import read_yaml, create_directories"
   ]
  },
  {
   "cell_type": "code",
   "execution_count": 7,
   "metadata": {},
   "outputs": [],
   "source": [
    "class ConfigurationManager:\n",
    "    def __init__(\n",
    "        self,\n",
    "        config_filepath = CONFIG_FILE_PATH,\n",
    "        params_filepath = PARAMS_FILE_PATH,\n",
    "        schema_filepath = SCHEMA_FILE_PATH):\n",
    "\n",
    "        self.config = read_yaml(config_filepath)\n",
    "        self.params = read_yaml(params_filepath)\n",
    "        self.schema = read_yaml(schema_filepath)\n",
    "\n",
    "        create_directories([self.config.artifacts_root])\n",
    "\n",
    "\n",
    "    def get_data_ingestion_config(self) -> DataIngestionConfig:\n",
    "        config = self.config.data_ingestion\n",
    "\n",
    "        create_directories([config.root_dir])\n",
    "\n",
    "        data_ingestion_config = DataIngestionConfig(\n",
    "            root_dir=config.root_dir,\n",
    "            source_URL=config.source_URL,\n",
    "            local_data_file=config.local_data_file,\n",
    "            unzip_dir=config.unzip_dir \n",
    "        )\n",
    "\n",
    "        return data_ingestion_config"
   ]
  },
  {
   "cell_type": "code",
   "execution_count": 8,
   "metadata": {},
   "outputs": [],
   "source": [
    "import os\n",
    "import urllib.request as request\n",
    "import zipfile\n",
    "from src.mlProject import logger\n",
    "from src.mlProject.utils.common import get_size"
   ]
  },
  {
   "cell_type": "code",
   "execution_count": 9,
   "metadata": {},
   "outputs": [],
   "source": [
    "class DataIngestion:\n",
    "    def __init__(self, config: DataIngestionConfig):\n",
    "        self.config = config\n",
    "\n",
    "\n",
    "    \n",
    "    def download_file(self):\n",
    "        if not os.path.exists(self.config.local_data_file):\n",
    "            filename, headers = request.urlretrieve(\n",
    "                url = self.config.source_URL,\n",
    "                filename = self.config.local_data_file\n",
    "            )\n",
    "            logger.info(f\"{filename} download! with following info: \\n{headers}\")\n",
    "        else:\n",
    "            logger.info(f\"File already exists of size: {get_size(Path(self.config.local_data_file))}\")\n",
    "\n",
    "\n",
    "\n",
    "    \n",
    "    def extract_zip_file(self):\n",
    "        \"\"\"\n",
    "        zip_file_path: str\n",
    "        Extracts the zip file into the data directory\n",
    "        Function returns None\n",
    "        \"\"\"\n",
    "        unzip_path = self.config.unzip_dir\n",
    "        os.makedirs(unzip_path, exist_ok=True)\n",
    "        with zipfile.ZipFile(self.config.local_data_file, 'r') as zip_ref:\n",
    "            zip_ref.extractall(unzip_path)"
   ]
  },
  {
   "cell_type": "code",
   "execution_count": 10,
   "metadata": {},
   "outputs": [
    {
     "name": "stdout",
     "output_type": "stream",
     "text": [
      "[2024-01-15 22:47:10,662:INFO:common:yaml file: config/config.yaml loaded successfully]\n",
      "[2024-01-15 22:47:10,663:INFO:common:yaml file: params.yaml loaded successfully]\n",
      "[2024-01-15 22:47:10,667:INFO:common:yaml file: schema.yaml loaded successfully]\n",
      "[2024-01-15 22:47:10,668:INFO:common:created directory at: artifacts]\n",
      "[2024-01-15 22:47:10,669:INFO:common:created directory at: artifacts/data_ingestion]\n",
      "[2024-01-15 22:47:10,670:INFO:3447005916:File already exists of size: ~ 26 KB]\n"
     ]
    }
   ],
   "source": [
    "try:\n",
    "    config = ConfigurationManager()\n",
    "    data_ingestion_config = config.get_data_ingestion_config()\n",
    "    data_ingestion = DataIngestion(config=data_ingestion_config)\n",
    "    data_ingestion.download_file()\n",
    "    data_ingestion.extract_zip_file()\n",
    "except Exception as e:\n",
    "    raise e"
   ]
  }
 ],
 "metadata": {
  "kernelspec": {
   "display_name": "Python 3.8.10 64-bit",
   "language": "python",
   "name": "python3"
  },
  "language_info": {
   "codemirror_mode": {
    "name": "ipython",
    "version": 3
   },
   "file_extension": ".py",
   "mimetype": "text/x-python",
   "name": "python",
   "nbconvert_exporter": "python",
   "pygments_lexer": "ipython3",
   "version": "3.8.10"
  },
  "orig_nbformat": 4,
  "vscode": {
   "interpreter": {
    "hash": "e7370f93d1d0cde622a1f8e1c04877d8463912d04d973331ad4851f04de6915a"
   }
  }
 },
 "nbformat": 4,
 "nbformat_minor": 2
}
